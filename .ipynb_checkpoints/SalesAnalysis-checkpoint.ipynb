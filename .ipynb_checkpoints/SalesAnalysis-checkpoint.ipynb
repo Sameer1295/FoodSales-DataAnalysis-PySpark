{
 "cells": [
  {
   "cell_type": "code",
   "execution_count": 1,
   "id": "5ad858b2-27ab-494e-910e-1e819b3fe027",
   "metadata": {},
   "outputs": [],
   "source": [
    "from pyspark.sql import SparkSession\n",
    "\n",
    "spark = SparkSession.builder \\\n",
    "    .appName(\"FoodSalesApp\") \\\n",
    "    .getOrCreate()"
   ]
  },
  {
   "cell_type": "code",
   "execution_count": 2,
   "id": "41d4d86a-0b46-459d-9f36-45fa47ff9603",
   "metadata": {},
   "outputs": [
    {
     "data": {
      "text/html": [
       "\n",
       "            <div>\n",
       "                <p><b>SparkSession - in-memory</b></p>\n",
       "                \n",
       "        <div>\n",
       "            <p><b>SparkContext</b></p>\n",
       "\n",
       "            <p><a href=\"http://TheHybridTech:4042\">Spark UI</a></p>\n",
       "\n",
       "            <dl>\n",
       "              <dt>Version</dt>\n",
       "                <dd><code>v3.1.1</code></dd>\n",
       "              <dt>Master</dt>\n",
       "                <dd><code>local[*]</code></dd>\n",
       "              <dt>AppName</dt>\n",
       "                <dd><code>FoodSalesApp</code></dd>\n",
       "            </dl>\n",
       "        </div>\n",
       "        \n",
       "            </div>\n",
       "        "
      ],
      "text/plain": [
       "<pyspark.sql.session.SparkSession at 0x22d1aa73f10>"
      ]
     },
     "execution_count": 2,
     "metadata": {},
     "output_type": "execute_result"
    }
   ],
   "source": [
    "spark"
   ]
  },
  {
   "cell_type": "markdown",
   "id": "41d556da-33d3-4aa4-8212-9eab5c57057d",
   "metadata": {},
   "source": [
    "Sales Dataframe"
   ]
  },
  {
   "cell_type": "code",
   "execution_count": 4,
   "id": "7d82e806-fc96-4ec6-9258-1b4ad1ddc2d0",
   "metadata": {},
   "outputs": [
    {
     "data": {
      "text/plain": [
       "DataFrame[product_id: int, customer_id: string, order_date: date, location: string, source_order: string]"
      ]
     },
     "metadata": {},
     "output_type": "display_data"
    }
   ],
   "source": [
    "from pyspark.sql.types import StructType,StructField,IntegerType,StringType,DateType\n",
    "schema=StructType([\n",
    "    StructField(\"product_id\",IntegerType(),True),\n",
    "    StructField(\"customer_id\",StringType(),True),\n",
    "    StructField(\"order_date\",DateType(),True),\n",
    "    StructField(\"location\",StringType(),True),\n",
    "    StructField(\"source_order\",StringType(),True)\n",
    "])\n",
    "\n",
    "sales_df = spark.read.format(\"csv\").option(\"inferschema\",\"true\").schema(schema).load(\"sales.csv\")\n",
    "display(sales_df)"
   ]
  },
  {
   "cell_type": "code",
   "execution_count": 5,
   "id": "4e88d933-d81c-4c96-8369-0960472fc810",
   "metadata": {},
   "outputs": [
    {
     "name": "stdout",
     "output_type": "stream",
     "text": [
      "+----------+-----------+----------+--------+------------+\n",
      "|product_id|customer_id|order_date|location|source_order|\n",
      "+----------+-----------+----------+--------+------------+\n",
      "|         1|          A|2023-01-01|   India|      Swiggy|\n",
      "|         2|          A|2022-01-01|   India|      Swiggy|\n",
      "|         2|          A|2023-01-07|   India|      Swiggy|\n",
      "|         3|          A|2023-01-10|   India|  Restaurant|\n",
      "|         3|          A|2022-01-11|   India|      Swiggy|\n",
      "|         3|          A|2023-01-11|   India|  Restaurant|\n",
      "|         2|          B|2022-02-01|   India|      Swiggy|\n",
      "|         2|          B|2023-01-02|   India|      Swiggy|\n",
      "|         1|          B|2023-01-04|   India|  Restaurant|\n",
      "|         1|          B|2023-02-11|   India|      Swiggy|\n",
      "|         3|          B|2023-01-16|   India|      zomato|\n",
      "|         3|          B|2022-02-01|   India|      zomato|\n",
      "|         3|          C|2023-01-01|   India|      zomato|\n",
      "|         1|          C|2023-01-01|      UK|      Swiggy|\n",
      "|         6|          C|2022-01-07|      UK|      zomato|\n",
      "|         3|          D|2023-02-16|      UK|  Restaurant|\n",
      "|         5|          D|2022-02-01|      UK|      zomato|\n",
      "|         3|          E|2023-02-01|      UK|  Restaurant|\n",
      "|         4|          E|2023-02-01|      UK|      Swiggy|\n",
      "|         4|          E|2023-02-07|      UK|  Restaurant|\n",
      "+----------+-----------+----------+--------+------------+\n",
      "only showing top 20 rows\n",
      "\n"
     ]
    }
   ],
   "source": [
    "sales_df.show()"
   ]
  },
  {
   "cell_type": "code",
   "execution_count": 7,
   "id": "68548247-fb4f-48c7-9134-90325b11fecc",
   "metadata": {},
   "outputs": [
    {
     "name": "stdout",
     "output_type": "stream",
     "text": [
      "+----------+-----------+----------+--------+------------+----------+-----------+-------------+\n",
      "|product_id|customer_id|order_date|location|source_order|order_year|order_month|order_quarter|\n",
      "+----------+-----------+----------+--------+------------+----------+-----------+-------------+\n",
      "|         1|          A|2023-01-01|   India|      Swiggy|      2023|          1|            1|\n",
      "|         2|          A|2022-01-01|   India|      Swiggy|      2022|          1|            1|\n",
      "|         2|          A|2023-01-07|   India|      Swiggy|      2023|          1|            1|\n",
      "|         3|          A|2023-01-10|   India|  Restaurant|      2023|          1|            1|\n",
      "|         3|          A|2022-01-11|   India|      Swiggy|      2022|          1|            1|\n",
      "|         3|          A|2023-01-11|   India|  Restaurant|      2023|          1|            1|\n",
      "|         2|          B|2022-02-01|   India|      Swiggy|      2022|          2|            1|\n",
      "|         2|          B|2023-01-02|   India|      Swiggy|      2023|          1|            1|\n",
      "|         1|          B|2023-01-04|   India|  Restaurant|      2023|          1|            1|\n",
      "|         1|          B|2023-02-11|   India|      Swiggy|      2023|          2|            1|\n",
      "|         3|          B|2023-01-16|   India|      zomato|      2023|          1|            1|\n",
      "|         3|          B|2022-02-01|   India|      zomato|      2022|          2|            1|\n",
      "|         3|          C|2023-01-01|   India|      zomato|      2023|          1|            1|\n",
      "|         1|          C|2023-01-01|      UK|      Swiggy|      2023|          1|            1|\n",
      "|         6|          C|2022-01-07|      UK|      zomato|      2022|          1|            1|\n",
      "|         3|          D|2023-02-16|      UK|  Restaurant|      2023|          2|            1|\n",
      "|         5|          D|2022-02-01|      UK|      zomato|      2022|          2|            1|\n",
      "|         3|          E|2023-02-01|      UK|  Restaurant|      2023|          2|            1|\n",
      "|         4|          E|2023-02-01|      UK|      Swiggy|      2023|          2|            1|\n",
      "|         4|          E|2023-02-07|      UK|  Restaurant|      2023|          2|            1|\n",
      "+----------+-----------+----------+--------+------------+----------+-----------+-------------+\n",
      "only showing top 20 rows\n",
      "\n"
     ]
    }
   ],
   "source": [
    "## adding year month and quarter\n",
    "from pyspark.sql.functions import month, year,quarter\n",
    "sales_df = sales_df.withColumn(\"order_year\",year(sales_df.order_date))\n",
    "\n",
    "sales_df = sales_df.withColumn(\"order_month\",month(sales_df.order_date))\n",
    "sales_df = sales_df.withColumn(\"order_quarter\",quarter(sales_df.order_date))\n",
    "sales_df.show()"
   ]
  },
  {
   "cell_type": "markdown",
   "id": "07fec7c7-a0d9-48d6-b0b0-d1ba0a7375e5",
   "metadata": {},
   "source": [
    "Menu Dataframe"
   ]
  },
  {
   "cell_type": "code",
   "execution_count": 15,
   "id": "8e9b1faa-a0ed-442f-b1e6-769dbc0dc03c",
   "metadata": {},
   "outputs": [
    {
     "name": "stdout",
     "output_type": "stream",
     "text": [
      "+----------+------------+-----+\n",
      "|product_id|product_name|price|\n",
      "+----------+------------+-----+\n",
      "|      null|        Name| null|\n",
      "|         1|       PIZZA|100.0|\n",
      "|         2|     Chowmin|150.0|\n",
      "|         3|    sandwich|120.0|\n",
      "|         4|        Dosa|110.0|\n",
      "|         5|     Biryani| 80.0|\n",
      "|         6|       Pasta|180.0|\n",
      "+----------+------------+-----+\n",
      "\n"
     ]
    }
   ],
   "source": [
    "from pyspark.sql.types import StructType,StructField,IntegerType,StringType,FloatType\n",
    "schema=StructType([\n",
    "    StructField(\"product_id\",IntegerType(),True),\n",
    "    StructField(\"product_name\",StringType(),True),\n",
    "    StructField(\"price\",FloatType(),True)\n",
    "])\n",
    "\n",
    "menu_df = spark.read.format(\"csv\").option(\"inferschema\",\"true\").schema(schema).load(\"menu.csv\")\n",
    "menu_df.show()"
   ]
  },
  {
   "cell_type": "code",
   "execution_count": 16,
   "id": "7285375d-c20d-4f74-b5fb-56cb5872d482",
   "metadata": {},
   "outputs": [
    {
     "name": "stdout",
     "output_type": "stream",
     "text": [
      "+-----------+----------+\n",
      "|customer_id|sum(price)|\n",
      "+-----------+----------+\n",
      "|          A|    4260.0|\n",
      "|          B|    4440.0|\n",
      "|          C|    2400.0|\n",
      "|          D|    1200.0|\n",
      "|          E|    2040.0|\n",
      "+-----------+----------+\n",
      "\n"
     ]
    }
   ],
   "source": [
    "## Total Amount spent by each customer\n",
    "total_amount_spent = (sales_df.join(menu_df,'product_id').groupBy('customer_id').agg({'price':'sum'}).orderBy('customer_id'))\n",
    "total_amount_spent.show()"
   ]
  },
  {
   "cell_type": "code",
   "execution_count": 19,
   "id": "4c61a181-6894-4cd4-bcee-302405d51544",
   "metadata": {},
   "outputs": [
    {
     "name": "stdout",
     "output_type": "stream",
     "text": [
      "+------------+----------+\n",
      "|product_name|sum(price)|\n",
      "+------------+----------+\n",
      "|     Biryani|     480.0|\n",
      "|     Chowmin|    3600.0|\n",
      "|        Dosa|    1320.0|\n",
      "|       PIZZA|    2100.0|\n",
      "|       Pasta|    1080.0|\n",
      "|    sandwich|    5760.0|\n",
      "+------------+----------+\n",
      "\n"
     ]
    }
   ],
   "source": [
    "## Total Amount spent by each food category\n",
    "total_amount_spent_food = (sales_df.join(menu_df,'product_id').groupBy('product_name').agg({'price':'sum'}).orderBy('product_name'))\n",
    "total_amount_spent_food.show()"
   ]
  },
  {
   "cell_type": "code",
   "execution_count": 20,
   "id": "11097b70-a7ba-4664-bdfb-9587e8b7e794",
   "metadata": {},
   "outputs": [
    {
     "name": "stdout",
     "output_type": "stream",
     "text": [
      "+-----------+----------+\n",
      "|order_month|sum(price)|\n",
      "+-----------+----------+\n",
      "|          1|    2960.0|\n",
      "|          2|    2730.0|\n",
      "|          3|     910.0|\n",
      "|          5|    2960.0|\n",
      "|          6|    2960.0|\n",
      "|          7|     910.0|\n",
      "|         11|     910.0|\n",
      "+-----------+----------+\n",
      "\n"
     ]
    }
   ],
   "source": [
    "## Total Amount of Sales in each month\n",
    "sales_by_month = (sales_df.join(menu_df,'product_id').groupBy('order_month').agg({'price':'sum'}).orderBy('order_month'))\n",
    "sales_by_month.show()"
   ]
  },
  {
   "cell_type": "code",
   "execution_count": 21,
   "id": "30990626-4469-4a9d-9c97-fc2c6dd7e3a4",
   "metadata": {},
   "outputs": [
    {
     "name": "stdout",
     "output_type": "stream",
     "text": [
      "+----------+----------+\n",
      "|order_year|sum(price)|\n",
      "+----------+----------+\n",
      "|      2022|    4350.0|\n",
      "|      2023|    9990.0|\n",
      "+----------+----------+\n",
      "\n"
     ]
    }
   ],
   "source": [
    "## Yearly sales\n",
    "yearly_sales = (sales_df.join(menu_df,'product_id').groupBy('order_year').agg({'price':'sum'}).orderBy('order_year'))\n",
    "yearly_sales.show()"
   ]
  },
  {
   "cell_type": "code",
   "execution_count": 23,
   "id": "d58e5e30-cecf-4d53-b8ec-1229154b15e0",
   "metadata": {},
   "outputs": [
    {
     "name": "stdout",
     "output_type": "stream",
     "text": [
      "+-------------+----------+\n",
      "|order_quarter|sum(price)|\n",
      "+-------------+----------+\n",
      "|            1|    6600.0|\n",
      "|            2|    5920.0|\n",
      "|            3|     910.0|\n",
      "|            4|     910.0|\n",
      "+-------------+----------+\n",
      "\n"
     ]
    }
   ],
   "source": [
    "## Quarterly sales\n",
    "quarterly_sales = (sales_df.join(menu_df,'product_id').groupBy('order_quarter').agg({'price':'sum'}).orderBy('order_quarter'))\n",
    "quarterly_sales.show()"
   ]
  },
  {
   "cell_type": "code",
   "execution_count": 33,
   "id": "c2068b8e-be6a-4947-9b5d-ebd5fabbf8f6",
   "metadata": {},
   "outputs": [
    {
     "name": "stdout",
     "output_type": "stream",
     "text": [
      "+------------+-------------+\n",
      "|product_name|product_count|\n",
      "+------------+-------------+\n",
      "|    sandwich|           48|\n",
      "|     Chowmin|           24|\n",
      "|       PIZZA|           21|\n",
      "|        Dosa|           12|\n",
      "|     Biryani|            6|\n",
      "|       Pasta|            6|\n",
      "+------------+-------------+\n",
      "\n"
     ]
    }
   ],
   "source": [
    "## How many times each product purchased\n",
    "product_order_count = sales_df.join(menu_df,'product_id').groupBy('product_name').agg({'product_id':'count'}).withColumnRenamed('count(product_id)', 'product_count').orderBy('product_count',ascending=0)\n",
    "product_order_count.show()"
   ]
  },
  {
   "cell_type": "code",
   "execution_count": 34,
   "id": "f948bed0-6f9a-4d21-b45e-db4b7ab77de1",
   "metadata": {},
   "outputs": [
    {
     "name": "stdout",
     "output_type": "stream",
     "text": [
      "+------------+-------------+\n",
      "|product_name|product_count|\n",
      "+------------+-------------+\n",
      "|    sandwich|           48|\n",
      "|     Chowmin|           24|\n",
      "|       PIZZA|           21|\n",
      "+------------+-------------+\n",
      "\n"
     ]
    }
   ],
   "source": [
    "## Top 3 ordered items\n",
    "product_order_count.limit(3).show()"
   ]
  },
  {
   "cell_type": "code",
   "execution_count": 35,
   "id": "d278ea95-f9b6-4146-b5fc-ccf806170553",
   "metadata": {},
   "outputs": [
    {
     "name": "stdout",
     "output_type": "stream",
     "text": [
      "+-----------+-----------------+\n",
      "|customer_id|count(order_date)|\n",
      "+-----------+-----------------+\n",
      "|          E|                5|\n",
      "|          B|                6|\n",
      "|          D|                1|\n",
      "|          C|                3|\n",
      "|          A|                6|\n",
      "+-----------+-----------------+\n",
      "\n"
     ]
    }
   ],
   "source": [
    "## No of visits by customer to restaurant\n",
    "from pyspark.sql.functions import countDistinct\n",
    "visits_to_restaurant = sales_df.filter(sales_df.source_order=='Restaurant').groupBy('customer_id').agg(countDistinct('order_date'))\n",
    "visits_to_restaurant.show()"
   ]
  },
  {
   "cell_type": "code",
   "execution_count": 36,
   "id": "d645354a-b7ae-4e72-a1b8-2e64ce19ecac",
   "metadata": {},
   "outputs": [
    {
     "name": "stdout",
     "output_type": "stream",
     "text": [
      "+--------+----------+\n",
      "|location|sum(price)|\n",
      "+--------+----------+\n",
      "|   India|    4860.0|\n",
      "|     USA|    2460.0|\n",
      "|      UK|    7020.0|\n",
      "+--------+----------+\n",
      "\n"
     ]
    }
   ],
   "source": [
    "## total sales by each country\n",
    "sales_by_country = sales_df.join(menu_df,'product_id').groupBy('location').agg({'price':'sum'})\n",
    "sales_by_country.show()"
   ]
  },
  {
   "cell_type": "code",
   "execution_count": null,
   "id": "cb1eb60a-0702-4fb8-91c3-4397b56ed6ff",
   "metadata": {},
   "outputs": [],
   "source": []
  }
 ],
 "metadata": {
  "kernelspec": {
   "display_name": "Python 3 (ipykernel)",
   "language": "python",
   "name": "python3"
  },
  "language_info": {
   "codemirror_mode": {
    "name": "ipython",
    "version": 3
   },
   "file_extension": ".py",
   "mimetype": "text/x-python",
   "name": "python",
   "nbconvert_exporter": "python",
   "pygments_lexer": "ipython3",
   "version": "3.11.8"
  }
 },
 "nbformat": 4,
 "nbformat_minor": 5
}
